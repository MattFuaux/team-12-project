{
 "cells": [
  {
   "cell_type": "code",
   "execution_count": 1,
   "id": "e656a31a",
   "metadata": {},
   "outputs": [],
   "source": [
    "## Tested on Jupyter Notebook and Anaconda Environment ##\n",
    "# Python: 3.7.13\n",
    "# Tensorflow: 2.3.0 (Keras comes with this so no need ot install it separately)\n",
    "# Matplotlib: 3.5.1\n",
    "# Pandas: 1.3.5\n",
    "# Seaborn: 0.1.1.2\n",
    "\n",
    "# Import libraries\n",
    "\n",
    "import numpy as np\n",
    "import tensorflow as tf\n",
    "from tensorflow import keras\n",
    "from tensorflow.keras import layers\n",
    "import pandas as pd\n",
    "import seaborn as sns\n",
    "import matplotlib.pyplot as plt\n",
    "import os\n",
    "\n",
    "from tensorflow.keras.models import Sequential\n",
    "from tensorflow.keras.layers import Conv2D, MaxPooling2D, Flatten, Dense, Activation, Dropout\n",
    "from tensorflow.keras.utils import to_categorical\n",
    "\n",
    "from tensorflow.python.keras.preprocessing.image import ImageDataGenerator\n",
    "from sklearn.metrics import classification_report, log_loss, accuracy_score\n",
    "from sklearn.model_selection import train_test_split"
   ]
  },
  {
   "cell_type": "code",
   "execution_count": 2,
   "id": "0ad1511b",
   "metadata": {},
   "outputs": [
    {
     "name": "stdout",
     "output_type": "stream",
     "text": [
      "{'Apple Braeburn': 0, 'Apple Granny Smith': 1, 'Apricot': 2, 'Avocado': 3, 'Banana': 4, 'Blueberry': 5, 'Cactus fruit': 6, 'Cantaloupe': 7, 'Cherry': 8, 'Clementine': 9, 'Corn': 10, 'Cucumber Ripe': 11, 'Grape Blue': 12, 'Kiwi': 13, 'Lemon': 14, 'Limes': 15, 'Mango': 16, 'Onion White': 17, 'Orange': 18, 'Papaya': 19, 'Passion Fruit': 20, 'Peach': 21, 'Pear': 22, 'Pepper Green': 23, 'Pepper Red': 24, 'Pineapple': 25, 'Plum': 26, 'Pomegranate': 27, 'Potato Red': 28, 'Raspberry': 29, 'Strawberry': 30, 'Tomato': 31, 'Watermelon': 32}\n"
     ]
    }
   ],
   "source": [
    "# Create map of different fruit classes from subdirectory names in the train folder\n",
    "\n",
    "# Training dataset dir\n",
    "train_dir = \"fruits_dataset/train\"\n",
    "\n",
    "Name=[]\n",
    "for file in os.listdir(train_dir):\n",
    "    Name+=[file]\n",
    "\n",
    "# Create and print category map    \n",
    "fruit_map = dict(zip(Name, [t for t in range(len(Name))]))\n",
    "print(fruit_map)\n",
    "r_fruit_map=dict(zip([t for t in range(len(Name))],Name)) "
   ]
  },
  {
   "cell_type": "code",
   "execution_count": 3,
   "id": "357fd0cf",
   "metadata": {},
   "outputs": [],
   "source": [
    "# Alter data set\n",
    "img_datagen = ImageDataGenerator(rescale=1./255,\n",
    "                                vertical_flip=True,\n",
    "                                horizontal_flip=True,\n",
    "                                rotation_range=40,\n",
    "                                width_shift_range=0.2,\n",
    "                                height_shift_range=0.2,\n",
    "                                zoom_range=0.1,\n",
    "                                validation_split=0.2)\n",
    "                                \n",
    "test_datagen = ImageDataGenerator(rescale=1./255)"
   ]
  },
  {
   "cell_type": "code",
   "execution_count": 4,
   "id": "211d8612",
   "metadata": {},
   "outputs": [
    {
     "name": "stdout",
     "output_type": "stream",
     "text": [
      "Found 13309 images belonging to 33 classes.\n",
      "Found 3314 images belonging to 33 classes.\n"
     ]
    }
   ],
   "source": [
    "# Divide data sets into train and validation\n",
    "\n",
    "train_generator = img_datagen.flow_from_directory(train_dir,\n",
    "                                                 shuffle=True,\n",
    "                                                 batch_size=32,\n",
    "                                                 subset='training',\n",
    "                                                 target_size=(100, 100))\n",
    "\n",
    "# IDK why the validation set is the same as the train set.\n",
    "valid_generator = img_datagen.flow_from_directory(train_dir,\n",
    "                                                 shuffle=True,\n",
    "                                                 batch_size=16,\n",
    "                                                 subset='validation',\n",
    "                                                 target_size=(100, 100))"
   ]
  },
  {
   "cell_type": "code",
   "execution_count": 5,
   "id": "50ad3687",
   "metadata": {},
   "outputs": [
    {
     "name": "stdout",
     "output_type": "stream",
     "text": [
      "Model: \"sequential\"\n",
      "_________________________________________________________________\n",
      "Layer (type)                 Output Shape              Param #   \n",
      "=================================================================\n",
      "conv2d (Conv2D)              (None, 100, 100, 32)      896       \n",
      "_________________________________________________________________\n",
      "max_pooling2d (MaxPooling2D) (None, 50, 50, 32)        0         \n",
      "_________________________________________________________________\n",
      "conv2d_1 (Conv2D)            (None, 50, 50, 64)        18496     \n",
      "_________________________________________________________________\n",
      "max_pooling2d_1 (MaxPooling2 (None, 25, 25, 64)        0         \n",
      "_________________________________________________________________\n",
      "conv2d_2 (Conv2D)            (None, 25, 25, 64)        36928     \n",
      "_________________________________________________________________\n",
      "max_pooling2d_2 (MaxPooling2 (None, 12, 12, 64)        0         \n",
      "_________________________________________________________________\n",
      "conv2d_3 (Conv2D)            (None, 12, 12, 64)        36928     \n",
      "_________________________________________________________________\n",
      "max_pooling2d_3 (MaxPooling2 (None, 6, 6, 64)          0         \n",
      "_________________________________________________________________\n",
      "conv2d_4 (Conv2D)            (None, 6, 6, 64)          36928     \n",
      "_________________________________________________________________\n",
      "max_pooling2d_4 (MaxPooling2 (None, 3, 3, 64)          0         \n",
      "_________________________________________________________________\n",
      "conv2d_5 (Conv2D)            (None, 3, 3, 64)          36928     \n",
      "_________________________________________________________________\n",
      "max_pooling2d_5 (MaxPooling2 (None, 1, 1, 64)          0         \n",
      "_________________________________________________________________\n",
      "flatten (Flatten)            (None, 64)                0         \n",
      "_________________________________________________________________\n",
      "dense (Dense)                (None, 256)               16640     \n",
      "_________________________________________________________________\n",
      "activation (Activation)      (None, 256)               0         \n",
      "_________________________________________________________________\n",
      "dropout (Dropout)            (None, 256)               0         \n",
      "_________________________________________________________________\n",
      "dense_1 (Dense)              (None, 33)                8481      \n",
      "_________________________________________________________________\n",
      "activation_1 (Activation)    (None, 33)                0         \n",
      "=================================================================\n",
      "Total params: 192,225\n",
      "Trainable params: 192,225\n",
      "Non-trainable params: 0\n",
      "_________________________________________________________________\n"
     ]
    }
   ],
   "source": [
    "# Create the ANN layers\n",
    "\n",
    "model = Sequential()\n",
    "\n",
    "# First convolution and pooling layers\n",
    "model.add(Conv2D(filters=32, kernel_size=(3,3),input_shape=(100,100,3), activation='relu', padding = 'same'))\n",
    "model.add(MaxPooling2D(pool_size=(2, 2)))\n",
    "\n",
    "# Second convolution and pooling layers\n",
    "model.add(Conv2D(filters=64, kernel_size=(3,3), activation='relu', padding = 'same'))\n",
    "model.add(MaxPooling2D(pool_size=(2, 2)))\n",
    "\n",
    "# Third convolution and pooling layers\n",
    "model.add(Conv2D(filters=64, kernel_size=(3,3), activation='relu', padding = 'same'))\n",
    "model.add(MaxPooling2D(pool_size=(2, 2)))\n",
    "\n",
    "# Fourth convolution and pooling layers\n",
    "model.add(Conv2D(filters=64, kernel_size=(3,3), activation='relu', padding = 'same'))\n",
    "model.add(MaxPooling2D(pool_size=(2, 2)))\n",
    "\n",
    "# Fifth convolution and pooling layers\n",
    "model.add(Conv2D(filters=64, kernel_size=(3,3), activation='relu', padding = 'same'))\n",
    "model.add(MaxPooling2D(pool_size=(2, 2)))\n",
    "\n",
    "# Sixth convolution and pooling layers\n",
    "model.add(Conv2D(filters=64, kernel_size=(3,3), activation='relu', padding = 'same'))\n",
    "model.add(MaxPooling2D(pool_size=(2, 2)))\n",
    "\n",
    "# Flatten layer\n",
    "model.add(Flatten())\n",
    "\n",
    "# Dense layer\n",
    "model.add(Dense(256))\n",
    "# Activation layer\n",
    "model.add(Activation('relu'))\n",
    "# Dropout layer to avoid overfitting\n",
    "model.add(Dropout(0.5))\n",
    "\n",
    "# Final output layer must match the number of classes (fruit categories)\n",
    "model.add(Dense(len(fruit_map)))\n",
    "model.add(Activation('softmax'))\n",
    "\n",
    "# Print model summary\n",
    "model.summary()"
   ]
  },
  {
   "cell_type": "code",
   "execution_count": 6,
   "id": "850e120a",
   "metadata": {},
   "outputs": [
    {
     "name": "stdout",
     "output_type": "stream",
     "text": [
      "Epoch 1/20\n",
      "415/415 [==============================] - 95s 229ms/step - loss: 2.2076 - accuracy: 0.2745 - val_loss: 0.9363 - val_accuracy: 0.6582\n",
      "Epoch 2/20\n",
      "415/415 [==============================] - 95s 229ms/step - loss: 0.8256 - accuracy: 0.6745 - val_loss: 0.4692 - val_accuracy: 0.8388\n",
      "Epoch 3/20\n",
      "415/415 [==============================] - 95s 229ms/step - loss: 0.4302 - accuracy: 0.8440 - val_loss: 0.7409 - val_accuracy: 0.8089\n",
      "Epoch 4/20\n",
      "415/415 [==============================] - 94s 226ms/step - loss: 0.2786 - accuracy: 0.9015 - val_loss: 0.1737 - val_accuracy: 0.9402\n",
      "Epoch 5/20\n",
      "415/415 [==============================] - 94s 227ms/step - loss: 0.1977 - accuracy: 0.9331 - val_loss: 0.1236 - val_accuracy: 0.9553\n",
      "Epoch 6/20\n",
      "415/415 [==============================] - 94s 228ms/step - loss: 0.1583 - accuracy: 0.9445 - val_loss: 0.1087 - val_accuracy: 0.9589\n",
      "Epoch 7/20\n",
      "415/415 [==============================] - 94s 227ms/step - loss: 0.1675 - accuracy: 0.9447 - val_loss: 0.0602 - val_accuracy: 0.9780\n",
      "Epoch 8/20\n",
      "415/415 [==============================] - 95s 228ms/step - loss: 0.1380 - accuracy: 0.9553 - val_loss: 0.0771 - val_accuracy: 0.9716\n",
      "Epoch 9/20\n",
      "415/415 [==============================] - 95s 228ms/step - loss: 0.1026 - accuracy: 0.9657 - val_loss: 0.1100 - val_accuracy: 0.9589\n",
      "Epoch 10/20\n",
      "415/415 [==============================] - 94s 227ms/step - loss: 0.0945 - accuracy: 0.9695 - val_loss: 0.0244 - val_accuracy: 0.9921\n",
      "Epoch 11/20\n",
      "415/415 [==============================] - 95s 229ms/step - loss: 0.0880 - accuracy: 0.9722 - val_loss: 0.0496 - val_accuracy: 0.9837\n",
      "Epoch 12/20\n",
      "415/415 [==============================] - 95s 228ms/step - loss: 0.0916 - accuracy: 0.9712 - val_loss: 0.0752 - val_accuracy: 0.9752\n",
      "Epoch 13/20\n",
      "415/415 [==============================] - 95s 228ms/step - loss: 0.0827 - accuracy: 0.9727 - val_loss: 0.0979 - val_accuracy: 0.9677\n",
      "Epoch 14/20\n",
      "415/415 [==============================] - 95s 230ms/step - loss: 0.0754 - accuracy: 0.9751 - val_loss: 0.0228 - val_accuracy: 0.9912\n",
      "Epoch 15/20\n",
      "415/415 [==============================] - 94s 227ms/step - loss: 0.0641 - accuracy: 0.9806 - val_loss: 0.0474 - val_accuracy: 0.9828\n",
      "Epoch 16/20\n",
      "415/415 [==============================] - 95s 228ms/step - loss: 0.0441 - accuracy: 0.9875 - val_loss: 0.0214 - val_accuracy: 0.9940\n",
      "Epoch 17/20\n",
      "415/415 [==============================] - 101s 243ms/step - loss: 0.1036 - accuracy: 0.9675 - val_loss: 0.0236 - val_accuracy: 0.9906\n",
      "Epoch 18/20\n",
      "415/415 [==============================] - 99s 239ms/step - loss: 0.0611 - accuracy: 0.9814 - val_loss: 0.0554 - val_accuracy: 0.9789\n",
      "Epoch 19/20\n",
      "415/415 [==============================] - 108s 261ms/step - loss: 0.1012 - accuracy: 0.9735 - val_loss: 0.0341 - val_accuracy: 0.9900\n",
      "Epoch 20/20\n",
      "415/415 [==============================] - 111s 267ms/step - loss: 0.0312 - accuracy: 0.9907 - val_loss: 0.0216 - val_accuracy: 0.9943\n"
     ]
    }
   ],
   "source": [
    "# Compile model and fit dataset to model\n",
    "\n",
    "# Use adam optimizer\n",
    "model.compile(optimizer='adam',\n",
    "             loss='categorical_crossentropy',\n",
    "             metrics=['accuracy'])\n",
    "\n",
    "# Train model\n",
    "history = model.fit(train_generator, validation_data=valid_generator,\n",
    "                   steps_per_epoch=train_generator.n//train_generator.batch_size,\n",
    "                   validation_steps=valid_generator.n//valid_generator.batch_size,\n",
    "                   epochs=20)"
   ]
  },
  {
   "cell_type": "code",
   "execution_count": 7,
   "id": "d162ed4c",
   "metadata": {},
   "outputs": [],
   "source": [
    "# Save trained model\n",
    "model.save('fruit_model.h5')"
   ]
  },
  {
   "cell_type": "code",
   "execution_count": 8,
   "id": "65f883d7",
   "metadata": {},
   "outputs": [
    {
     "data": {
      "image/png": "[encoded data removed]",
      "text/plain": [
       "<Figure size 432x288 with 1 Axes>"
      ]
     },
     "metadata": {
      "needs_background": "light"
     },
     "output_type": "display_data"
    },
    {
     "data": {
      "image/png": "[encoded data removed]",
      "text/plain": [
       "<Figure size 432x288 with 1 Axes>"
      ]
     },
     "metadata": {
      "needs_background": "light"
     },
     "output_type": "display_data"
    }
   ],
   "source": [
    "# Plot training history\n",
    "\n",
    "plt.plot(history.history['loss'])\n",
    "plt.plot(history.history['val_loss'])\n",
    "plt.xlabel('Epoch')\n",
    "plt.ylabel('Loss')\n",
    "plt.title('Training and validation loss')\n",
    "plt.show()\n",
    "\n",
    "plt.plot(history.history['accuracy'])\n",
    "plt.plot(history.history['val_accuracy'])\n",
    "plt.xlabel('Epoch')\n",
    "plt.ylabel('Accuracy')\n",
    "plt.title('Training and validation accuracy')\n",
    "plt.show()"
   ]
  }
 ],
 "metadata": {
  "kernelspec": {
   "display_name": "Python 3 (ipykernel)",
   "language": "python",
   "name": "python3"
  },
  "language_info": {
   "codemirror_mode": {
    "name": "ipython",
    "version": 3
   },
   "file_extension": ".py",
   "mimetype": "text/x-python",
   "name": "python",
   "nbconvert_exporter": "python",
   "pygments_lexer": "ipython3",
   "version": "3.7.13"
  }
 },
 "nbformat": 4,
 "nbformat_minor": 5
}
